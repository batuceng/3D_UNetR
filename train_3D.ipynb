{
  "nbformat": 4,
  "nbformat_minor": 0,
  "metadata": {
    "colab": {
      "provenance": [],
      "collapsed_sections": []
    },
    "kernelspec": {
      "name": "python3",
      "display_name": "Python 3"
    },
    "language_info": {
      "name": "python"
    },
    "accelerator": "GPU"
  },
  "cells": [
    {
      "cell_type": "code",
      "metadata": {
        "id": "m6hQ_buQNn1T",
        "colab": {
          "base_uri": "https://localhost:8080/"
        },
        "outputId": "d1ca0892-8365-4933-ad1f-05e9a6ae6522"
      },
      "source": [
        "# If you are not working on Google Colab, please set the variable to False.\n",
        "\n",
        "colab = True\n",
        "\n",
        "if colab:\n",
        "  from google.colab import drive\n",
        "  drive.mount('/content/drive/')"
      ],
      "execution_count": 1,
      "outputs": [
        {
          "output_type": "stream",
          "name": "stdout",
          "text": [
            "Mounted at /content/drive/\n"
          ]
        }
      ]
    },
    {
      "cell_type": "code",
      "metadata": {
        "id": "2gKtSwU6ONT5"
      },
      "source": [
        "if colab:\n",
        "  import subprocess\n",
        "  from google.colab import files\n",
        "\n",
        "  bashCommand = \"pip install torch-summary dival\"\n",
        "  process = subprocess.Popen(bashCommand.split(), stdout=subprocess.PIPE)\n",
        "  output, error = process.communicate()\n",
        "\n",
        "import os\n",
        "import numpy as np\n",
        "import matplotlib.pyplot as plt\n",
        "import torch\n",
        "import torch.nn as nn\n",
        "import torchvision.transforms as transforms\n",
        "\n",
        "from tqdm import tqdm\n",
        "from torch.utils.data import Dataset, DataLoader\n",
        "from dival.measure import PSNR, SSIM\n",
        "from torchsummary import summary"
      ],
      "execution_count": 2,
      "outputs": []
    },
    {
      "cell_type": "code",
      "metadata": {
        "id": "9k-QBxkHONRs",
        "colab": {
          "base_uri": "https://localhost:8080/"
        },
        "outputId": "0b2bfc18-bc1e-4e13-870f-496f7381d65b"
      },
      "source": [
        "if torch.cuda.is_available():\n",
        "    device = torch.device(\"cuda:0\")\n",
        "    print(\"Running on GPU\", torch.cuda.get_device_name(device))\n",
        "else:\n",
        "    device = torch.device(\"cpu\")\n",
        "    print(\"Running on CPU\")"
      ],
      "execution_count": 3,
      "outputs": [
        {
          "output_type": "stream",
          "name": "stdout",
          "text": [
            "Running on GPU Tesla T4\n"
          ]
        }
      ]
    },
    {
      "cell_type": "code",
      "metadata": {
        "id": "1zD-9IvXONNT"
      },
      "source": [
        "# Dataset\n",
        "\n",
        "class LIDCDataset(Dataset):\n",
        "\n",
        "  def __init__(self, root_dir_fbp, root_dir_gr, transform = None) :\n",
        "\n",
        "    self.root_dir_fbp = root_dir_fbp\n",
        "    self.root_dir_gr = root_dir_gr\n",
        "    self.file_list = self.create_dataset()\n",
        "    self.transform = transform\n",
        "\n",
        "  def __len__(self):\n",
        "    return len(self.file_list)\n",
        "\n",
        "  def __getitem__(self, index):\n",
        "\n",
        "    fbp_path = os.path.join(self.root_dir_fbp, self.file_list[index])\n",
        "    gr_path = os.path.join(self.root_dir_gr, self.file_list[index])\n",
        "\n",
        "    fbp_im = np.load(fbp_path)\n",
        "    fbp_im = np.expand_dims(fbp_im, axis=0)\n",
        "    fbp_tensor = torch.Tensor(fbp_im)\n",
        "\n",
        "    gr_im = np.load(gr_path)\n",
        "    gr_im = np.expand_dims(gr_im, axis=0)\n",
        "    gr_tensor = torch.Tensor(gr_im)\n",
        "\n",
        "    if self.transform:\n",
        "\n",
        "      fbp_tensor = self.transform(fbp_tensor)\n",
        "      gr_tensor = self.transform(gr_tensor)\n",
        "\n",
        "    return (fbp_tensor, gr_tensor)\n",
        "\n",
        "  def create_dataset(self):\n",
        "\n",
        "    list = []\n",
        "    for filename in os.listdir(self.root_dir_fbp):\n",
        "      list.append(filename)\n",
        "    list.sort()\n",
        "\n",
        "    return list\n"
      ],
      "execution_count": 4,
      "outputs": []
    },
    {
      "cell_type": "code",
      "metadata": {
        "id": "ZHpd99fcONJG"
      },
      "source": [
        "class Unet3D(nn.Module):\n",
        "  def __init__(self, in_ch=1, out_ch=1, channels=None, skip_channels=None):\n",
        "    super(Unet3D,self).__init__()\n",
        "\n",
        "    self.inb = DownBlock(in_ch,channels[0], max_pool=False)\n",
        "    self.down_list = nn.ModuleList()\n",
        "    self.up_list = nn.ModuleList()\n",
        "\n",
        "    self.len_channel = len(channels)\n",
        "\n",
        "    for i in range(self.len_channel-1):\n",
        "      self.down_list.append(DownBlock(channels[i],channels[i+1], max_pool=True))\n",
        "      self.up_list.append(UpBlock(channels[self.len_channel-1-i],channels[self.len_channel-2-i], skip_channels[self.len_channel-2-i]))\n",
        "\n",
        "    self.outb = OutBlock(channels[0],out_ch)\n",
        "\n",
        "  def forward(self,x):\n",
        "    xs = [self.inb(x), ]\n",
        "    for i in range(self.len_channel-1):\n",
        "      xs.append(self.down_list[i](xs[-1]))\n",
        "    \n",
        "    x1 = xs[-1]\n",
        "\n",
        "    for i in range(self.len_channel-1):\n",
        "      x1 = self.up_list[i](x1, xs[-2-i])\n",
        "    x1 = self.outb(x1,x)\n",
        "    return x1\n",
        "\n",
        "class DownBlock(nn.Module):\n",
        "  def __init__(self, in_ch, out_ch, max_pool = True):\n",
        "    super(DownBlock,self).__init__()\n",
        "    self.max_pool = max_pool\n",
        "\n",
        "    self.conv = nn.Sequential(\n",
        "      nn.Conv3d(in_ch, out_ch, kernel_size=3, stride=1, padding =1, padding_mode='zeros'),\n",
        "      nn.BatchNorm3d(out_ch),\n",
        "      nn.LeakyReLU(0.2, inplace=True),\n",
        "      nn.Conv3d(out_ch, out_ch, kernel_size=3, stride=1, padding =1, padding_mode='zeros'),\n",
        "      nn.BatchNorm3d(out_ch),\n",
        "      nn.LeakyReLU(0.2, inplace=True))\n",
        "    \n",
        "  def forward(self, x):\n",
        "    if self.max_pool:\n",
        "      x = nn.MaxPool3d(2, stride=2)(x)\n",
        "    x = self.conv(x)\n",
        "    return x\n",
        "\n",
        "class UpBlock(nn.Module):\n",
        "  def __init__(self, in_ch, out_ch, skip_ch):\n",
        "    super(UpBlock,self).__init__()\n",
        "\n",
        "    self.up = nn.Upsample(scale_factor=2, mode='trilinear', align_corners=True)\n",
        "\n",
        "    self.skip_conv = nn.Sequential(\n",
        "      nn.Conv3d(out_ch, skip_ch, kernel_size=1, stride=1),\n",
        "      nn.BatchNorm3d(skip_ch),\n",
        "      nn.LeakyReLU(0.2, inplace=True))\n",
        "\n",
        "    self.conv = nn.Sequential(\n",
        "      nn.Conv3d(in_ch+skip_ch, out_ch, kernel_size=3, stride=1, padding = 1, padding_mode='zeros'),\n",
        "      nn.BatchNorm3d(out_ch),\n",
        "      nn.LeakyReLU(0.2, inplace=True),\n",
        "      nn.Conv3d(out_ch, out_ch, kernel_size=3, stride=1, padding = 1, padding_mode='zeros'),\n",
        "      nn.BatchNorm3d(out_ch),\n",
        "      nn.LeakyReLU(0.2, inplace=True))\n",
        "    \n",
        "  def forward(self, x1, x2):\n",
        "\n",
        "    x1 = self.up(x1) # Upsample\n",
        "    x2 = self.skip_conv(x2) # Skip connections \n",
        "    x1 = torch.cat((x1, x2), dim=1)\n",
        "    x1 = self.conv(x1)\n",
        "    return x1\n",
        "\n",
        "\n",
        "class OutBlock(nn.Module):\n",
        "  def __init__(self, in_ch, out_ch):\n",
        "    super(OutBlock,self).__init__()\n",
        "\n",
        "    self.conv = nn.Sequential(\n",
        "      nn.Conv3d(in_ch, out_ch, kernel_size=1, stride=1),\n",
        "      nn.BatchNorm3d(out_ch),\n",
        "      nn.LeakyReLU(0.2, inplace=True))\n",
        "    \n",
        "  def forward(self, x1, x2):\n",
        "    x1 = self.conv(x1)\n",
        "    return torch.add(x1, x2)\n"
      ],
      "execution_count": 5,
      "outputs": []
    },
    {
      "cell_type": "code",
      "metadata": {
        "id": "k58bZ_u3ONG2"
      },
      "source": [
        "channels = [16,32,64,128,256]\n",
        "skip_channels = channels[:-1]\n",
        "\n",
        "unet3d = Unet3D(channels=channels, skip_channels=skip_channels).to(device)"
      ],
      "execution_count": 6,
      "outputs": []
    },
    {
      "cell_type": "code",
      "metadata": {
        "id": "cuHeNRQ9ONEe"
      },
      "source": [
        "# Crate test Dataset\n",
        "\n",
        "# Please give your path for dataset\n",
        "train_root_dir_fbp = '.../data/Train/FBP'\n",
        "train_root_dir_gr = '.../data/Train/Ground_Truth'\n",
        "train_dataset = LIDCDataset( train_root_dir_fbp, train_root_dir_gr)\n",
        "\n",
        "batch_size = 4\n",
        "\n",
        "train_loader = DataLoader(dataset=train_dataset, batch_size = batch_size, shuffle=True) # shuffle=True for 3D UNet"
      ],
      "execution_count": 8,
      "outputs": []
    },
    {
      "cell_type": "code",
      "metadata": {
        "id": "NuPeiiJpOt5y",
        "colab": {
          "base_uri": "https://localhost:8080/"
        },
        "outputId": "c6c60ce9-d19a-438c-993a-3fa6a51d5938"
      },
      "source": [
        "\n",
        "# Load a 3D U-Net model\n",
        "\n",
        "optimizer = torch.optim.Adam(unet3d.parameters(), lr = 1e-3)\n",
        "\n",
        "load = True\n",
        "\n",
        "# Please give your path for models\n",
        "model_dir = '.../models/3D U-NetR Models'\n",
        "if load:\n",
        "  model_list = []\n",
        "  for filename in os.listdir(model_dir):\n",
        "    model_list.append(filename) \n",
        "  model_list.sort()\n",
        "\n",
        "  state = torch.load(os.path.join(model_dir,model_list[-2])) # map_location=torch.device('cpu')\n",
        "\n",
        "  unet3d.load_state_dict(state['state_dict'])\n",
        "  optimizer.load_state_dict(state['optimizer'])\n",
        "  loss_arr = np.loadtxt(os.path.join(model_dir,model_list[-1]))  # map_location=torch.device('cpu')) # Remove map_location for GPU usage\n",
        "\n",
        "  print(\"Loaded Model and Optimizer: \", model_list[-2])\n",
        "  print(\"Loaded Loss Array: \", model_list[-1])\n",
        "  print(\"Total Epoch: \", len(loss_arr))\n",
        "else:\n",
        "  # Create an empty array in shape 0,2\n",
        "  # 1st Column = Training Loss, 2nd Column = Validation Loss\n",
        "  loss_arr = np.empty(shape=[0,4])"
      ],
      "execution_count": 9,
      "outputs": [
        {
          "output_type": "stream",
          "name": "stdout",
          "text": [
            "Loaded Model and Optimizer:  LIDC_3DU-Net_epoch_1108\n",
            "Loaded Loss Array:  LIDC_3DU-Net_epoch_1108.txt\n",
            "Total Epoch:  1108\n"
          ]
        }
      ]
    },
    {
      "cell_type": "code",
      "source": [
        "# Training the 3D-UNet Model\n",
        "\n",
        "c=128\n",
        "EPOCHS = 50\n",
        "for epoch in range(EPOCHS):\n",
        "\n",
        "  # Training\n",
        "  train_epoch_loss = 0\n",
        "  counter = 0\n",
        "\n",
        "  unet3d.train()\n",
        "  for data in tqdm(train_loader, position=0, leave=True):\n",
        "    counter += 1\n",
        "\n",
        "    x, y = data\n",
        "    x, y = x.to(device), y.to(device)\n",
        "\n",
        "    unet3d.zero_grad()\n",
        "    output = unet3d(x)\n",
        "    loss = torch.nn.L1Loss()(output, y)\n",
        "    loss.backward()\n",
        "    optimizer.step()\n",
        "    train_epoch_loss += loss.item()\n",
        "\n",
        "  train_epoch_loss /= counter\n",
        "  print(\"\\nTraining Loss:\",train_epoch_loss, \"Epoch: \", epoch) \n",
        "\n",
        "  print(\"Saving the model and loss\")\n",
        "  \n",
        "  # Save model\n",
        "  \n",
        "  state = {\n",
        "    'epoch': epoch,\n",
        "    'state_dict': unet3d.state_dict(),\n",
        "    'optimizer': optimizer.state_dict()\n",
        "  }\n",
        "\n",
        "  model_name = ('/LIDC_3DU-Net_epoch_' + format(loss_arr.shape[0], '03d'))\n",
        "  model_path =  model_dir + model_name\n",
        "  torch.save(state, model_path)\n",
        "\n",
        "  loss_dir = model_dir + model_name + \".txt\"\n",
        "  np.savetxt(loss_dir,loss_arr)\n"
      ],
      "metadata": {
        "id": "Rjz64DVYTbIK"
      },
      "execution_count": null,
      "outputs": []
    },
    {
      "cell_type": "code",
      "source": [],
      "metadata": {
        "id": "8OHEu1w8TbCd"
      },
      "execution_count": null,
      "outputs": []
    }
  ]
}